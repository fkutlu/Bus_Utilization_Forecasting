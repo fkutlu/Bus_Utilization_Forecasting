{
  "nbformat": 4,
  "nbformat_minor": 0,
  "metadata": {
    "kernelspec": {
      "display_name": "Python 3",
      "language": "python",
      "name": "python3"
    },
    "language_info": {
      "codemirror_mode": {
        "name": "ipython",
        "version": 3
      },
      "file_extension": ".py",
      "mimetype": "text/x-python",
      "name": "python",
      "nbconvert_exporter": "python",
      "pygments_lexer": "ipython3",
      "version": "3.6.4"
    },
    "colab": {
      "provenance": [],
      "include_colab_link": true
    }
  },
  "cells": [
    {
      "cell_type": "markdown",
      "metadata": {
        "id": "view-in-github",
        "colab_type": "text"
      },
      "source": [
        "<a href=\"https://colab.research.google.com/github/fkutlu/bus_utilization_forcasting/blob/main/bus_utilization_forcasting.ipynb\" target=\"_parent\"><img src=\"https://colab.research.google.com/assets/colab-badge.svg\" alt=\"Open In Colab\"/></a>"
      ]
    },
    {
      "cell_type": "markdown",
      "metadata": {
        "id": "Fk38Knq6C-t7"
      },
      "source": [
        "# Bus Utilization Forescasting"
      ]
    },
    {
      "cell_type": "code",
      "metadata": {
        "id": "ux0k-gsnC-uA"
      },
      "source": [
        "import pandas as pd\n",
        "from pandas import datetime\n",
        "from dateutil.parser import parse \n",
        "import matplotlib as mpl\n",
        "import seaborn as sns\n",
        "import numpy as np\n",
        "import datetime\n",
        "from datetime import datetime\n",
        "import matplotlib.pyplot as plt\n",
        "plt.rcParams.update({'figure.figsize': (10, 7), 'figure.dpi': 120})"
      ],
      "execution_count": null,
      "outputs": []
    },
    {
      "cell_type": "code",
      "metadata": {
        "id": "wtr0Q0BmEifk"
      },
      "source": [
        "# from google.colab import files\n",
        "# uploaded = files.upload()\n",
        "# for fn in uploaded.keys():\n",
        "#   print('User uploaded file \"{name}\" with length {length} bytes'.format(\n",
        "#       name=fn, length=len(uploaded[fn])))"
      ],
      "execution_count": null,
      "outputs": []
    },
    {
      "cell_type": "code",
      "source": [
        "# Import Data\n",
        "# df = pd.read_csv('municipality_bus_utilization.csv', index_col=0, infer_datetime_format=True)\n",
        "df = pd.read_csv('https://raw.githubusercontent.com/fkutlu/bus_utilization_forcasting/main/municipality_bus_utilization.csv', index_col=0, infer_datetime_format=True)\n",
        "df.reset_index(inplace=True)\n",
        "print(df)"
      ],
      "metadata": {
        "id": "bgIIaUIUwPQo"
      },
      "execution_count": null,
      "outputs": []
    },
    {
      "cell_type": "code",
      "source": [
        "# get rid of numbers for the seconds in order to group by hour for taking the max value\n",
        "df['timestamp'] = df['timestamp'].apply(lambda x: (\" \".join((x.split(':')))[:-6]))\n",
        "# df['date'] = df['timestamp'].apply(lambda x: (x.split(' ')[0]))\n",
        "# df['hour'] = df['timestamp'].apply(lambda x: (x.split(' ')[1]))\n",
        "print(df)"
      ],
      "metadata": {
        "id": "hyskWDbA5elj"
      },
      "execution_count": null,
      "outputs": []
    },
    {
      "cell_type": "markdown",
      "metadata": {
        "id": "c4t_8QFHC-u2"
      },
      "source": [
        "### Portion data to train & test (last two weeks)"
      ]
    },
    {
      "cell_type": "code",
      "source": [
        "# manual train test split\n",
        "df_train = pd.DataFrame()\n",
        "df_test = pd.DataFrame()\n",
        "\n",
        "# apply seperately for each municipality\n",
        "gb = df.groupby(\"municipality_id\")\n",
        "\n",
        "for group, rows in gb:\n",
        "    # print(group)\n",
        "    # print(rows)\n",
        "    df2 = pd.DataFrame(data=rows)\n",
        "    # print(df2.head(20))\n",
        "    # take the maximum value for each hour\n",
        "    gb2 = df2.groupby(\"timestamp\").max('usage')\n",
        "    grouped_df = gb2.reset_index()\n",
        "    # create the hour of the day parameter for the analysis\n",
        "    grouped_df['hour'] = grouped_df['timestamp'].apply(lambda x: (x.split(' ')[1]))\n",
        "    curr_municipality_df = grouped_df.drop(columns = ['timestamp', 'total_capacity'])\n",
        "    # print(curr_municipality_df.head(20))\n",
        "    # spare latest two weeks for test\n",
        "    num = len(curr_municipality_df.index)\n",
        "    df_test = df_test.append(curr_municipality_df.iloc[num-102:num])\n",
        "    # print(df_test.head(20))\n",
        "    df_train = df_train.append(curr_municipality_df.iloc[0:(num-102)])\n",
        "\n",
        "print(df_test)\n",
        "print(df_train)\n",
        "df_test.apply(pd.to_numeric).dtypes\n",
        "df_test['hour'] = df_test['hour'].astype('int')\n",
        "# print(df_test.dtypes)\n",
        "# df_test = pd.to_numeric(df_test)\n",
        "# df_test.describe()\n",
        "df_train.apply(pd.to_numeric).dtypes\n",
        "df_train['hour'] = df_train['hour'].astype('int')\n",
        "print(df_train.dtypes)\n",
        "# df_train.describe()"
      ],
      "metadata": {
        "id": "D1rpnvx_A2xF"
      },
      "execution_count": null,
      "outputs": []
    },
    {
      "cell_type": "markdown",
      "source": [
        "# 3D View in order to Determine Dependent and Target Values"
      ],
      "metadata": {
        "id": "xHOpEQetRbVd"
      }
    },
    {
      "cell_type": "code",
      "source": [
        "from mpl_toolkits import mplot3d\n",
        "%matplotlib inline\n",
        "import numpy as np\n",
        "import matplotlib.pyplot as plt\n",
        "\n",
        "fig = plt.figure(figsize=(5, 10), dpi=120)\n",
        "\n",
        "# Data for a three-dimensional line\n",
        "# ax.plot3D(xline, yline, zline, 'gray')\n",
        "\n",
        "# Data for three-dimensional scattered points\n",
        "zdata = df_train.hour.values\n",
        "xdata = df_train.municipality_id.values\n",
        "ydata = df_train.usage.values\n",
        "\n",
        "ax = plt.axes(projection='3d')\n",
        "# ax = plt.figure().add_subplot(projection='3d')\n",
        "ax.set_xlabel('MUNICIPALITY')\n",
        "ax.set_ylabel('USAGE')\n",
        "ax.set_zlabel('HOURS')\n",
        "\n",
        "ax.view_init(elev=20., azim=-200)\n",
        "ax.scatter(xdata, ydata, zdata, c=zdata, cmap='viridis', linewidth=1);"
      ],
      "metadata": {
        "id": "epB8nKdAmxxx"
      },
      "execution_count": null,
      "outputs": []
    },
    {
      "cell_type": "markdown",
      "metadata": {
        "id": "5rnVyyyAC-wM"
      },
      "source": [
        "# Train Model, Test and Evaluate"
      ]
    },
    {
      "cell_type": "code",
      "source": [
        "from sklearn import linear_model\n",
        "from sklearn.preprocessing import StandardScaler\n",
        "\n",
        "y_train = df_train.usage\n",
        "X_train_df = df_train.drop('usage', axis=1)\n",
        "\n",
        "y_test = df_test.usage.to_numpy()\n",
        "print(y_test)\n",
        "X_test_df = df_test.drop('usage', axis=1)\n",
        "\n",
        "scaler = StandardScaler()\n",
        "scaler.fit(X_train_df)  # No cheating, never scale on the training+test!\n",
        "X_train = scaler.transform(X_train_df)\n",
        "X_test = scaler.transform(X_test_df)\n",
        "\n",
        "X_train_df = pd.DataFrame(X_train, columns=X_train_df.columns)\n",
        "X_test_df = pd.DataFrame(X_test, columns=X_test_df.columns)\n",
        "\n",
        "# Bayesian regression\n",
        "reg = linear_model.BayesianRidge()\n",
        "reg.fit(X_train, y_train)\n",
        "yhat = reg.predict(X_test)\n",
        "print(yhat)\n",
        "\n",
        "forecast_errors = [y_test[i]-yhat[i] for i in range(len(y_test))]\n",
        "print('Forecast Errors: %s' % forecast_errors)\n",
        "\n",
        "bias = sum(forecast_errors) * 1.0/len(y_test)\n",
        "print('Bias: %f' % bias)\n",
        "\n",
        "from sklearn.metrics import mean_absolute_error\n",
        "mae = mean_absolute_error(y_test, yhat)\n",
        "print('Mean Absolute Error (MAE): %f' % mae)\n",
        "\n",
        "from sklearn.metrics import mean_squared_error\n",
        "from math import sqrt\n",
        "mse = mean_squared_error(y_test, yhat)\n",
        "rmse = sqrt(mse)\n",
        "print('Root Mean Squared Error (RMSE): %f' % rmse)"
      ],
      "metadata": {
        "id": "zHM9QjvOc0LW"
      },
      "execution_count": null,
      "outputs": []
    },
    {
      "cell_type": "code",
      "source": [
        "plt.plot(y_test)\n",
        "plt.plot(yhat, color='red')\n",
        "plt.title('Bus usage prediction (RED plots) by Bayesian Regression', fontsize=16)\n",
        "plt.tight_layout()"
      ],
      "metadata": {
        "id": "FOkmzGw90DWp"
      },
      "execution_count": null,
      "outputs": []
    },
    {
      "cell_type": "code",
      "metadata": {
        "id": "zu6bLyFLC-v8"
      },
      "source": [
        "# Using scipy: Subtract the line of best fit\n",
        "from scipy import signal\n",
        "detrended = signal.detrend(df_train.usage.values)\n",
        "plt.plot(detrended)\n",
        "plt.title('Bus Usage detrended by subtracting the least squares fit', fontsize=12)"
      ],
      "execution_count": null,
      "outputs": []
    }
  ]
}